{
 "cells": [
  {
   "cell_type": "markdown",
   "metadata": {},
   "source": [
    "# Python Assignment\n",
    "[Nattanon Tanittiraporn](https://github.com/nattanon127) ANR 769775 \n",
    "\n",
    "[Yi Huang](https://github.com/littleskyline) ANR 353686"
   ]
  },
  {
   "cell_type": "markdown",
   "metadata": {},
   "source": [
    "## Question\n",
    "How the traditional Cournot duopoly model can explain the result of competition between firms in case of cost asymmetries?"
   ]
  },
  {
   "cell_type": "markdown",
   "metadata": {},
   "source": [
    "## Motivation\n",
    "We aim to illustrate what would happen in the duopoly market under the cost asymmetry. Usually a firm with high costs would be at a weak position and it should make some changes. Under the competitive market, is it possible for higher cost firm to survive? We want to test if competition always benefit to all types of firms by the traditional Cournot duopoly model."
   ]
  },
  {
   "cell_type": "markdown",
   "metadata": {},
   "source": [
    "## Import libraries and packages\n",
    "To import all the libraries needed"
   ]
  },
  {
   "cell_type": "code",
   "execution_count": 2,
   "metadata": {
    "collapsed": true
   },
   "outputs": [],
   "source": [
    "from scipy import optimize,arange\n",
    "from numpy import array\n",
    "import matplotlib.pyplot as plt\n",
    "%matplotlib inline\n",
    "from sympy import *\n",
    "from sympy import init_printing\n",
    "init_printing(use_latex=True)"
   ]
  },
  {
   "cell_type": "markdown",
   "metadata": {},
   "source": [
    "## Answer\n",
    "\n",
    "Our <a href='#conclusion'>conclusion</a> is that only firm with lower cost will be active in the assumption market. The firm that fail in competition due to higher cost will quit the market."
   ]
  },
  {
   "cell_type": "markdown",
   "metadata": {},
   "source": [
    "## Main assumptions\n",
    "* Linear demand function $P\\left( Q \\right) = \\frac{1}{2} - Q$ where $Q = q_{1} + q_{2}$ and $q_{1} + q_{2} \\leq \\frac{1}{2}$\n",
    "* Firms compete in quantities and simultaneously, no cooperate and no collusion.\n",
    "* Homogeneous product, there is no product differentiation. \n",
    "* Cost functions are homogeneous. $C(q_i)=c$ with $i=1,2$ and $c_1<c_2$ namely $c_1=0$ , $c_2=0.25$"
   ]
  },
  {
   "cell_type": "markdown",
   "metadata": {},
   "source": [
    "## Model\n",
    "Firms profit functions: $π_i=(0.5-q_i-q_j ) q_i-c_iq_i$ with $i=1,2$\n",
    "\n",
    "where $π$: firm's profit; $q$: product quantity "
   ]
  },
  {
   "cell_type": "markdown",
   "metadata": {},
   "source": [
    "First, we are differentiate the profit function"
   ]
  },
  {
   "cell_type": "code",
   "execution_count": 4,
   "metadata": {
    "collapsed": false
   },
   "outputs": [
    {
     "data": {
      "image/png": "[encoded data removed]",
      "text/latex": [
       "$$- 2 q_{1} - q_{2} + 0.5$$"
      ],
      "text/plain": [
       "-2⋅q₁ - q₂ + 0.5"
      ]
     },
     "execution_count": 4,
     "metadata": {},
     "output_type": "execute_result"
    }
   ],
   "source": [
    "q1 = Symbol('q1')\n",
    "q2 = Symbol('q2')\n",
    "\n",
    "y=(0.5*q1-q1**2-q1*q2)\n",
    "yprime = y.diff(q1)\n",
    "yprime"
   ]
  },
  {
   "cell_type": "code",
   "execution_count": 5,
   "metadata": {
    "collapsed": false
   },
   "outputs": [
    {
     "data": {
      "image/png": "[encoded data removed]",
      "text/latex": [
       "$$- q_{1} - 2 q_{2} + 0.25$$"
      ],
      "text/plain": [
       "-q₁ - 2⋅q₂ + 0.25"
      ]
     },
     "execution_count": 5,
     "metadata": {},
     "output_type": "execute_result"
    }
   ],
   "source": [
    "q1 = Symbol('q1')\n",
    "q2 = Symbol('q2')\n",
    "\n",
    "y=(0.5*q2-q2**2-q1*q2-0.25*q2)\n",
    "yprime = y.diff(q2)\n",
    "yprime"
   ]
  },
  {
   "cell_type": "markdown",
   "metadata": {},
   "source": [
    "To recap:\n",
    "\n",
    "$(dπ_1)/(dq_1 )=-2q_1-q_2+0.5$\n",
    "\n",
    "\n",
    "$(dπ_2)/(dq_2 )=-q_1-2q_2+0.25$\n"
   ]
  },
  {
   "cell_type": "markdown",
   "metadata": {},
   "source": [
    "The FOCs are as follows"
   ]
  },
  {
   "cell_type": "markdown",
   "metadata": {},
   "source": [
    "$-2q_1-q_2+0.5=0$\n",
    "\n",
    "$-q_1-2q_2+0.25=0$"
   ]
  },
  {
   "cell_type": "code",
   "execution_count": 7,
   "metadata": {
    "collapsed": false
   },
   "outputs": [
    {
     "data": {
      "image/png": "[encoded data removed]",
      "text/latex": [
       "$$\\left [ - 0.5 q_{2} + 0.25\\right ]$$"
      ],
      "text/plain": [
       "[-0.5⋅q₂ + 0.25]"
      ]
     },
     "execution_count": 7,
     "metadata": {},
     "output_type": "execute_result"
    }
   ],
   "source": [
    "solve (-2*q1-q2+0.5, q1)"
   ]
  },
  {
   "cell_type": "code",
   "execution_count": 8,
   "metadata": {
    "collapsed": false
   },
   "outputs": [
    {
     "data": {
      "image/png": "[encoded data removed]",
      "text/latex": [
       "$$\\left [ - 0.5 q_{1} + 0.125\\right ]$$"
      ],
      "text/plain": [
       "[-0.5⋅q₁ + 0.125]"
      ]
     },
     "execution_count": 8,
     "metadata": {},
     "output_type": "execute_result"
    }
   ],
   "source": [
    "solve (-q1-2*q2+0.25, q2)"
   ]
  },
  {
   "cell_type": "markdown",
   "metadata": {},
   "source": [
    "The system of the reaction curves:\n",
    "\n",
    "$\\left\\{ \\begin{matrix}\n",
    "q_{1}\\left( q_{2} \\right) = - 0.5q_{2} + 0.25 \\\\\n",
    "q_{2}\\left( q_{1} \\right) = - \\frac{1}{2}q_{1}+0.125 \\\\\n",
    "\\end{matrix} \\right.\\ $\n"
   ]
  },
  {
   "cell_type": "markdown",
   "metadata": {},
   "source": [
    "## A graphical illustration"
   ]
  },
  {
   "cell_type": "code",
   "execution_count": 19,
   "metadata": {
    "collapsed": false
   },
   "outputs": [
    {
     "data": {
      "image/png": "[encoded data removed]",
      "text/plain": [
       "<matplotlib.figure.Figure at 0x1c1fe9ba4e0>"
      ]
     },
     "metadata": {},
     "output_type": "display_data"
    }
   ],
   "source": [
    "def reaction_function(q_other,c):\n",
    "    return 0.5*(1-c-q_other)\n",
    "\n",
    "c_1 = 0.0\n",
    "c_2 = 0.25\n",
    "\n",
    "range_q = arange(0.0,1.01,0.01)\n",
    "range_reaction_1 = [reaction_function(q_2,c_1) for q_2 in range_q]\n",
    "range_reaction_2 = [reaction_function(q_1,c_2) for q_1 in range_q]\n",
    "\n",
    "plt.clf()\n",
    "plt.plot(range_q, range_reaction_2,'-', color = 'g', linewidth = 3)\n",
    "plt.plot(range_reaction_1, range_q,'-', color = 'r', linewidth = 3)\n",
    "plt.title(\"Reaction function curves\",fontsize = 22)\n",
    "plt.xlabel(\"$q_1$\",fontsize = 15)\n",
    "plt.ylabel(\"$q_2$\",fontsize = 15,rotation = 90)\n",
    "plt.annotate('$q_2(q_1)$', xy=(0.6,reaction_function(0.6,c_2)),  xycoords='data', # here we define the labels and arrows in the graph\n",
    "              xytext=(30, 50), textcoords='offset points', size = 20,\n",
    "              arrowprops=dict(arrowstyle=\"->\", linewidth = 2,\n",
    "                              connectionstyle=\"arc3,rad=.2\"),\n",
    "              )\n",
    "plt.annotate('$q_1(q_2)$', xy=(reaction_function(0.6,c_1),0.6),  xycoords='data', # here we define the labels and arrows in the graph\n",
    "              xytext=(30, 50), textcoords='offset points', size = 20,\n",
    "              arrowprops=dict(arrowstyle=\"->\", linewidth = 2,\n",
    "                              connectionstyle=\"arc3,rad=.2\"),\n",
    "              )\n",
    "\n",
    "\n",
    "\n",
    "\n",
    "# plt.xlim(c,1.0)\n",
    "# plt.ylim(0.0,0.3)\n",
    "plt.savefig('reaction curves.png')"
   ]
  },
  {
   "cell_type": "markdown",
   "metadata": {},
   "source": [
    "Mathematically, we can see derive the equilibrium quantities of both firms"
   ]
  },
  {
   "cell_type": "code",
   "execution_count": 21,
   "metadata": {
    "collapsed": false
   },
   "outputs": [
    {
     "data": {
      "image/png": "[encoded data removed]",
      "text/latex": [
       "$$\\left \\{ q_{1} : 0.25, \\quad q_{2} : 0.0\\right \\}$$"
      ],
      "text/plain": [
       "{q₁: 0.25, q₂: 0.0}"
      ]
     },
     "execution_count": 21,
     "metadata": {},
     "output_type": "execute_result"
    }
   ],
   "source": [
    "solve([-0.5*q2+0.25-q1,-0.5*q1+0.125-q2 ], [q1,q2])"
   ]
  },
  {
   "cell_type": "markdown",
   "metadata": {},
   "source": [
    "<a id='conclusion'></a>\n",
    "## Conclusion"
   ]
  },
  {
   "cell_type": "markdown",
   "metadata": {},
   "source": [
    "$q_1^*=0.25$ \n",
    "\n",
    "$q_2^*=0.00$\n",
    "\n",
    "$Q^*=0.25$\n",
    "\n",
    "$P^*=0.25$\n",
    "\n",
    "In sum, only one firm will be active at equilibrium and produce with quantity 0.25. Profit of firm 1 is $π_1=0.25^2$. For firm 2, their product quantity and profit are zero. \n",
    "\n",
    "However, please note that these result based on the case of two firms under extreme conditions and assumption of classical theory only. In the real world, it might not be the case as their products in the market may not perfectly homogeneous and it's almost impossible that cost of production of a firm will be zero, other firms can enter into the market etc. "
   ]
  },
  {
   "cell_type": "code",
   "execution_count": null,
   "metadata": {
    "collapsed": true
   },
   "outputs": [],
   "source": []
  }
 ],
 "metadata": {
  "kernelspec": {
   "display_name": "Python [Root]",
   "language": "python",
   "name": "Python [Root]"
  },
  "language_info": {
   "codemirror_mode": {
    "name": "ipython",
    "version": 3
   },
   "file_extension": ".py",
   "mimetype": "text/x-python",
   "name": "python",
   "nbconvert_exporter": "python",
   "pygments_lexer": "ipython3",
   "version": "3.5.2"
  }
 },
 "nbformat": 4,
 "nbformat_minor": 0
}
